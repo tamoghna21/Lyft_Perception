{
 "cells": [
  {
   "cell_type": "code",
   "execution_count": null,
   "metadata": {
    "collapsed": true
   },
   "outputs": [],
   "source": [
    "#from zipfile import ZipFile\n",
    "\n",
    "import zipfile\n",
    "         \n",
    "#jungle_zip = zipfile.ZipFile('C:\\\\Stories\\\\Fantasy\\\\jungle.zip', 'w')\n",
    "jungle_zip = zipfile.ZipFile('model_combined_data.zip', 'w')\n",
    "#jungle_zip.write('C:\\\\Stories\\\\Fantasy\\\\jungle.pdf', compress_type=zipfile.ZIP_DEFLATED)\n",
    "jungle_zip.write('model_combined.ckpt.data-00000-of-00001', compress_type=zipfile.ZIP_DEFLATED)\n",
    " \n",
    "jungle_zip.close()\n"
   ]
  },
  {
   "cell_type": "code",
   "execution_count": null,
   "metadata": {
    "collapsed": true
   },
   "outputs": [],
   "source": [
    "from zipfile import ZipFile\n",
    "         \n",
    "f_zip = ZipFile('model_combined_datav2.zip')\n",
    "f_zip.extractall('./')\n",
    " \n",
    "f_zip.close()\n"
   ]
  },
  {
   "cell_type": "code",
   "execution_count": null,
   "metadata": {
    "collapsed": true
   },
   "outputs": [],
   "source": [
    "print('hi')"
   ]
  },
  {
   "cell_type": "code",
   "execution_count": null,
   "metadata": {
    "collapsed": true
   },
   "outputs": [],
   "source": [
    "print('hi again')"
   ]
  },
  {
   "cell_type": "code",
   "execution_count": null,
   "metadata": {
    "collapsed": true
   },
   "outputs": [],
   "source": []
  }
 ],
 "metadata": {
  "kernelspec": {
   "display_name": "Python [default]",
   "language": "python",
   "name": "python3"
  },
  "language_info": {
   "codemirror_mode": {
    "name": "ipython",
    "version": 3
   },
   "file_extension": ".py",
   "mimetype": "text/x-python",
   "name": "python",
   "nbconvert_exporter": "python",
   "pygments_lexer": "ipython3",
   "version": "3.6.1"
  },
  "widgets": {
   "state": {},
   "version": "1.1.2"
  }
 },
 "nbformat": 4,
 "nbformat_minor": 2
}
